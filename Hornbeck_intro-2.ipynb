{
 "cells": [
  {
   "cell_type": "markdown",
   "id": "15d51e73-c8c8-47e4-a97b-2b07d3a3c9c2",
   "metadata": {
    "tags": []
   },
   "source": [
    "# Data Science"
   ]
  },
  {
   "cell_type": "markdown",
   "id": "562f3d01-ae20-40d7-af0c-518983577fef",
   "metadata": {},
   "source": [
    "## Joseph Hornbeck"
   ]
  },
  {
   "cell_type": "code",
   "execution_count": 147,
   "id": "6ba740b2-d526-4110-826c-b6fde31c1bfe",
   "metadata": {},
   "outputs": [
    {
     "name": "stdout",
     "output_type": "stream",
     "text": [
      "[58, 92, 41, 65, 42, 48, 90, 100, 46, 49, 68, 86, 35, 79, 42, 69, 72, 74, 85, 76, 45, 50, 33, 69, 81, 82, 46, 70, 53, 76, 62, 77, 80, 45, 84, 30, 42, 86, 63, 37]\n"
     ]
    }
   ],
   "source": [
    "import random\n",
    "\n",
    "nums = [random.randint(30,100) for i in range(0,40)]\n",
    "\n",
    "print(nums)"
   ]
  },
  {
   "cell_type": "code",
   "execution_count": 148,
   "id": "eda74afa-57c1-4d11-b795-9cb10cc631e0",
   "metadata": {},
   "outputs": [
    {
     "name": "stdout",
     "output_type": "stream",
     "text": [
      "[30, 33, 35, 37, 41, 42, 42, 42, 45, 45, 46, 46, 48, 49, 50, 53, 58, 62, 63, 65, 68, 69, 69, 70, 72, 74, 76, 76, 77, 79, 80, 81, 82, 84, 85, 86, 86, 90, 92, 100]\n"
     ]
    }
   ],
   "source": [
    "list.sort(nums)\n",
    "for i in range(0,1):\n",
    "    print(nums)"
   ]
  },
  {
   "cell_type": "markdown",
   "id": "d45604b1-5d87-4780-8240-7dfbef63519a",
   "metadata": {},
   "source": [
    "## The Sample Mean\n",
    "- Add up all numbers in sample. \n",
    "- Divide the total by the number of samples. \n",
    "- For Python use mean = sum(nums)/len(nums).\n"
   ]
  },
  {
   "cell_type": "markdown",
   "id": "9038ff92-7c79-4831-ae21-9be2adf41c13",
   "metadata": {},
   "source": [
    "$\\overline{\\chi}=\\frac{\\sum \\chi i}{n}$"
   ]
  },
  {
   "cell_type": "code",
   "execution_count": 157,
   "id": "064b3f76-cf7f-49b7-b905-ab73489789de",
   "metadata": {},
   "outputs": [
    {
     "name": "stdout",
     "output_type": "stream",
     "text": [
      "63.20\n"
     ]
    }
   ],
   "source": [
    "for i in range(0,1):\n",
    "    total = sum(nums)\n",
    "    s_total = len(nums)\n",
    "    mean = total/s_total\n",
    "\n",
    "print(f'{n_mean:.2f}')"
   ]
  },
  {
   "cell_type": "markdown",
   "id": "06a52e75-ba88-4ea6-8d23-c2d6a6bf74d1",
   "metadata": {},
   "source": [
    "## The Median\n",
    "https://statisticsbyjim.com/basics/median/#:~:text=In%20statistics%2C%20the%20median%20is%20the%20value%20that,as%20the%20second%20quartile%20or%20the%2050th%20percentile."
   ]
  },
  {
   "cell_type": "code",
   "execution_count": 178,
   "id": "503f6aea-d73f-4320-a434-a08946a7a1db",
   "metadata": {},
   "outputs": [
    {
     "name": "stdout",
     "output_type": "stream",
     "text": [
      "66.5\n",
      "65\n"
     ]
    }
   ],
   "source": [
    "mid=len(nums)//2\n",
    "if len(nums)%2==0:\n",
    "    print(f'{(nums[mid-1]+nums[mid])/2}')"
   ]
  },
  {
   "cell_type": "code",
   "execution_count": null,
   "id": "313be688-8954-4526-bccd-f3dc967fe913",
   "metadata": {},
   "outputs": [],
   "source": []
  }
 ],
 "metadata": {
  "kernelspec": {
   "display_name": "Python 3 (ipykernel)",
   "language": "python",
   "name": "python3"
  },
  "language_info": {
   "codemirror_mode": {
    "name": "ipython",
    "version": 3
   },
   "file_extension": ".py",
   "mimetype": "text/x-python",
   "name": "python",
   "nbconvert_exporter": "python",
   "pygments_lexer": "ipython3",
   "version": "3.9.12"
  }
 },
 "nbformat": 4,
 "nbformat_minor": 5
}
